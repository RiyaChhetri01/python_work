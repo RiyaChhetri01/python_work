{
  "nbformat": 4,
  "nbformat_minor": 0,
  "metadata": {
    "colab": {
      "provenance": []
    },
    "kernelspec": {
      "name": "python3",
      "display_name": "Python 3"
    },
    "language_info": {
      "name": "python"
    }
  },
  "cells": [
    {
      "cell_type": "code",
      "source": [
        "#creating a file\n",
        "f=open(\"file1.txt\",'w')\n",
        "f.write(\"hello riya\")\n",
        "f.write(\"\\nhow was your day\")\n",
        "f.close()"
      ],
      "metadata": {
        "id": "5v61YqTjwVAw"
      },
      "execution_count": null,
      "outputs": []
    },
    {
      "cell_type": "code",
      "source": [
        "#if file is already present\n",
        "f=open(\"file1.txt\",'w')\n",
        "f.write(\"Riya Chhetri this side\")\n",
        "f.close()\n"
      ],
      "metadata": {
        "id": "D_FXtrMIw60o"
      },
      "execution_count": null,
      "outputs": []
    },
    {
      "cell_type": "code",
      "source": [
        "#for adding more line into the file\n",
        "f=open(\"/content/file1.txt\",'a')#a stands for append mode\n",
        "f.write(\"\\nI am fine\")\n",
        "f.close()"
      ],
      "metadata": {
        "id": "51BI4AcPxNuI"
      },
      "execution_count": null,
      "outputs": []
    },
    {
      "cell_type": "code",
      "source": [
        "#writing multiple line\n",
        "L=[\"\\nhello\\n\",\"how are you\\n\",\"how was your day\\n\"]\n",
        "f=open(\"file1.txt\",\"a\")\n",
        "f.writelines(L)\n",
        "f.close()"
      ],
      "metadata": {
        "id": "BMOOmWGTxkR7"
      },
      "execution_count": null,
      "outputs": []
    },
    {
      "cell_type": "code",
      "source": [
        "#Reading a file\n",
        "f=open(\"file1.txt\",'r')\n",
        "print(f.readline(),end=\"\")\n",
        "print(f.readline(),end=\"\")\n",
        "f.close()"
      ],
      "metadata": {
        "colab": {
          "base_uri": "https://localhost:8080/"
        },
        "id": "LHeXQrz3yHeD",
        "outputId": "cbd4c9b1-28e3-49e4-c1ab-949fe916fe73"
      },
      "execution_count": null,
      "outputs": [
        {
          "output_type": "stream",
          "name": "stdout",
          "text": [
            "Riya Chhetri this side\n",
            "I am finehello\n"
          ]
        }
      ]
    },
    {
      "cell_type": "code",
      "source": [
        "#read\n",
        "f=open(\"file1.txt\",'r')\n",
        "s=f.read()\n",
        "print(s)"
      ],
      "metadata": {
        "colab": {
          "base_uri": "https://localhost:8080/"
        },
        "id": "as1hXRd5ypSF",
        "outputId": "202c8664-78c0-4e09-b978-31e45b5e465c"
      },
      "execution_count": null,
      "outputs": [
        {
          "output_type": "stream",
          "name": "stdout",
          "text": [
            "Riya Chhetri this side\n",
            "I am finehello\n",
            "how are you\n",
            "how was your day\n",
            "\n",
            "hello\n",
            "how are you\n",
            "how was your day\n",
            "\n",
            "hello\n",
            "how are you\n",
            "how was your day\n",
            "\n"
          ]
        }
      ]
    },
    {
      "cell_type": "code",
      "source": [
        "#printing all the lines of the file\n",
        "f=open(\"file1.txt\",'r')\n",
        "while True:\n",
        "  data=f.readline()\n",
        "  if data==\"\":\n",
        "    break\n",
        "  else:\n",
        "    print(data,end=\"\")\n",
        "f.close()"
      ],
      "metadata": {
        "colab": {
          "base_uri": "https://localhost:8080/"
        },
        "id": "z8cA6SjXy3YZ",
        "outputId": "82bdce8e-f2de-46b1-c489-30f0ffe7024d"
      },
      "execution_count": null,
      "outputs": [
        {
          "output_type": "stream",
          "name": "stdout",
          "text": [
            "Riya Chhetri this side\n",
            "I am finehello\n",
            "how are you\n",
            "how was your day\n",
            "\n",
            "hello\n",
            "how are you\n",
            "how was your day\n",
            "\n",
            "hello\n",
            "how are you\n",
            "how was your day\n"
          ]
        }
      ]
    },
    {
      "cell_type": "code",
      "source": [
        "with open(\"file1.txt\",'r') as f:\n",
        "  print(f.read())"
      ],
      "metadata": {
        "colab": {
          "base_uri": "https://localhost:8080/"
        },
        "id": "dqdXBFeQzpvN",
        "outputId": "af2d5275-8ee4-43f1-9163-ff4bd1ade0a8"
      },
      "execution_count": null,
      "outputs": [
        {
          "output_type": "stream",
          "name": "stdout",
          "text": [
            "Riya Chhetri this side\n",
            "I am finehello\n",
            "how are you\n",
            "how was your day\n",
            "\n",
            "hello\n",
            "how are you\n",
            "how was your day\n",
            "\n",
            "hello\n",
            "how are you\n",
            "how was your day\n",
            "\n"
          ]
        }
      ]
    },
    {
      "cell_type": "code",
      "source": [
        "with open(\"file1.txt\",'r') as f:\n",
        "  print(f.read(24))#read first 24 char\n",
        "  print(f.read(20))#then read next 20 char\n"
      ],
      "metadata": {
        "colab": {
          "base_uri": "https://localhost:8080/"
        },
        "id": "0iNiC5GH0LkL",
        "outputId": "e21ec26c-0bfb-4b83-c5e4-0e18242319f3"
      },
      "execution_count": null,
      "outputs": [
        {
          "output_type": "stream",
          "name": "stdout",
          "text": [
            "Riya Chhetri this side\n",
            "I\n",
            " am finehello\n",
            "how ar\n"
          ]
        }
      ]
    },
    {
      "cell_type": "code",
      "source": [
        "#to load big file in memory\n",
        "big_l=(\"Riya Chhetri\"  for i in range(100))\n",
        "with open(\"big.txt\",'w') as f:\n",
        "  f.writelines(big_l)\n"
      ],
      "metadata": {
        "id": "APd8ixxqzXqH"
      },
      "execution_count": null,
      "outputs": []
    },
    {
      "cell_type": "code",
      "source": [
        "#to load a file in chunks\n",
        "with open(\"big.txt\",'r') as f:\n",
        "  chunk_size=10\n",
        "  while True:\n",
        "    chunk= f.read(chunk_size)\n",
        "    if not  chunk:\n",
        "      break\n",
        "    print(f.read(chunk_size))\n",
        "    f.read(chunk_size)\n"
      ],
      "metadata": {
        "colab": {
          "base_uri": "https://localhost:8080/"
        },
        "id": "v_h74fDM1rIO",
        "outputId": "45d010ae-9361-464a-9cbf-e9e8f0a051e7",
        "collapsed": true
      },
      "execution_count": null,
      "outputs": [
        {
          "output_type": "stream",
          "name": "stdout",
          "text": [
            "riRiya Chh\n",
            " ChhetriRi\n",
            "riRiya Chh\n",
            " ChhetriRi\n",
            "riRiya Chh\n",
            " ChhetriRi\n",
            "riRiya Chh\n",
            " ChhetriRi\n",
            "riRiya Chh\n",
            " ChhetriRi\n",
            "riRiya Chh\n",
            " ChhetriRi\n",
            "riRiya Chh\n",
            " ChhetriRi\n",
            "riRiya Chh\n",
            " ChhetriRi\n",
            "riRiya Chh\n",
            " ChhetriRi\n",
            "riRiya Chh\n",
            " ChhetriRi\n",
            "riRiya Chh\n",
            " ChhetriRi\n",
            "riRiya Chh\n",
            " ChhetriRi\n",
            "riRiya Chh\n",
            " ChhetriRi\n",
            "riRiya Chh\n",
            " ChhetriRi\n",
            "riRiya Chh\n",
            " ChhetriRi\n",
            "riRiya Chh\n",
            " ChhetriRi\n",
            "riRiya Chh\n",
            " ChhetriRi\n",
            "riRiya Chh\n",
            " ChhetriRi\n",
            "riRiya Chh\n",
            " ChhetriRi\n",
            "riRiya Chh\n",
            " ChhetriRi\n"
          ]
        }
      ]
    },
    {
      "cell_type": "code",
      "source": [
        "#seek and tell function\n",
        "letter=(\"helloRIya :\" for i in range(20))\n",
        "with open('file1.txt','w') as f:\n",
        "  print(f.writelines (letter)\n",
        "  )"
      ],
      "metadata": {
        "colab": {
          "base_uri": "https://localhost:8080/"
        },
        "id": "WUfui8r0Wi8G",
        "outputId": "ad3414f8-f70e-469f-b13f-1c5d9c59dac5"
      },
      "execution_count": null,
      "outputs": [
        {
          "output_type": "stream",
          "name": "stdout",
          "text": [
            "None\n"
          ]
        }
      ]
    },
    {
      "cell_type": "code",
      "source": [
        "with open(\"file1.txt\",'r') as f:\n",
        "  print(f.read(10))\n",
        "  print(f.read(10))\n",
        "  f.seek(0)\n",
        "  print(f.read(15))"
      ],
      "metadata": {
        "colab": {
          "base_uri": "https://localhost:8080/"
        },
        "id": "PKgmegolXi8a",
        "outputId": "2d8658cd-5428-49e2-e49a-5cafe2f0d2a5"
      },
      "execution_count": null,
      "outputs": [
        {
          "output_type": "stream",
          "name": "stdout",
          "text": [
            "helloRIya \n",
            ":helloRIya\n",
            "helloRIya :hell\n"
          ]
        }
      ]
    },
    {
      "cell_type": "code",
      "source": [
        "with open(\"file2.txt\",'w')as f:\n",
        "  print(f.write(\"hello\"))\n",
        "  f.seek(3)\n",
        "  print(f.write(\"x\"))"
      ],
      "metadata": {
        "colab": {
          "base_uri": "https://localhost:8080/"
        },
        "id": "V7apxGroY4rG",
        "outputId": "33205f99-e361-410c-b84d-af034ba17a76"
      },
      "execution_count": 1,
      "outputs": [
        {
          "output_type": "stream",
          "name": "stdout",
          "text": [
            "5\n",
            "1\n"
          ]
        }
      ]
    },
    {
      "cell_type": "code",
      "source": [
        "with open(\"/content/1f3f4ce973d946578567f190e2773709.jpg\",'rb')as f:\n",
        "  data=f.read()\n",
        "with open(\"file2.jpg\",\"wb\")as b:\n",
        "  b.write(data)\n"
      ],
      "metadata": {
        "id": "KzoKk84kdGNZ"
      },
      "execution_count": 5,
      "outputs": []
    },
    {
      "cell_type": "code",
      "source": [
        "d={\n",
        "    \"name\":\"Riya\",\n",
        "    \"Age\":23,\n",
        "    \"Gender\":\"female\"\n",
        "}\n",
        "with open(\"file1.txt\",\"w\")as f:\n",
        "  f.write(d[\"Gender\"])\n"
      ],
      "metadata": {
        "id": "NPOb2vVHITkz"
      },
      "execution_count": 10,
      "outputs": []
    },
    {
      "cell_type": "code",
      "source": [
        "#serialization :process of converting the python code into json format\n",
        "import json\n",
        "l=[1,2,3,4,5]\n",
        "with open(\"file1.txt\",\"w\") as f:\n",
        "  json.dump(l,f)\n"
      ],
      "metadata": {
        "id": "Lo5U7ZNxJCaN"
      },
      "execution_count": 14,
      "outputs": []
    },
    {
      "cell_type": "code",
      "source": [
        "d={\n",
        "    \"Name\":\"Riya\",\n",
        "    \"Age\":23,\n",
        "    \"Gender\":\"Female\"\n",
        "\n",
        "}\n",
        "with open(\"file1.json\",\"w\")as f:\n",
        "  json.dump(d,f,indent=4)"
      ],
      "metadata": {
        "id": "hSpc-W3kJy45"
      },
      "execution_count": 20,
      "outputs": []
    },
    {
      "cell_type": "code",
      "source": [
        "#deserialization:process of converting the JSON to python data type\n",
        "import json\n",
        "with open(\"file1.json\",\"r\")as f:\n",
        "  d=json.load(f)\n",
        "  print(d)\n",
        "  print(type(d))"
      ],
      "metadata": {
        "colab": {
          "base_uri": "https://localhost:8080/"
        },
        "id": "YY1iaIIJKK28",
        "outputId": "207c72ee-ba2f-41ea-dfd0-542db72d19ed"
      },
      "execution_count": 22,
      "outputs": [
        {
          "output_type": "stream",
          "name": "stdout",
          "text": [
            "{'Name': 'Riya', 'Age': 23, 'Gender': 'Female'}\n",
            "<class 'dict'>\n"
          ]
        }
      ]
    },
    {
      "cell_type": "code",
      "source": [
        "#tupe:tuple is stored as list in json format\n",
        "t=(1,2,3,4)\n",
        "with open(\"file1.txt\",\"w\")as f:\n",
        "  json.dump(t,f)\n",
        "\n",
        "\n"
      ],
      "metadata": {
        "colab": {
          "base_uri": "https://localhost:8080/"
        },
        "id": "NxVU_BDxK_qO",
        "outputId": "d65b560e-0849-414b-fef2-683e76b819c5"
      },
      "execution_count": 24,
      "outputs": [
        {
          "output_type": "stream",
          "name": "stdout",
          "text": [
            "<class 'NoneType'>\n"
          ]
        }
      ]
    },
    {
      "cell_type": "code",
      "source": [
        "#Nested Dict\n",
        "d={\n",
        "    \"Name\":\"Riya\",\n",
        "    \"Marks\":[12,35,78,95,13]\n",
        "\n",
        "}\n",
        "with open(\"file1.txt\",\"w\")as f:\n",
        "  json.dump(d,f,indent=4)\n",
        "print(\"Marks:\",d[\"Marks\"])"
      ],
      "metadata": {
        "colab": {
          "base_uri": "https://localhost:8080/"
        },
        "id": "1y7iGDOqLZww",
        "outputId": "c4c541b2-0541-4f05-8b00-df4103e4eca4"
      },
      "execution_count": 30,
      "outputs": [
        {
          "output_type": "stream",
          "name": "stdout",
          "text": [
            "Marks: [12, 35, 78, 95, 13]\n"
          ]
        }
      ]
    }
  ]
}